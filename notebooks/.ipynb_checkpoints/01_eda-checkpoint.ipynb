{
 "cells": [
  {
   "cell_type": "markdown",
   "metadata": {},
   "source": [
    "# KSCU Wallet Share Analysis - Exploratory Data Analysis\n",
    "\n",
    "## Competition Overview\n",
    "- **Goal**: Predict member state transitions and wallet share for retail banking\n",
    "- **States**: STAY (high wallet share), SPLIT (mixed), LEAVE (low/no wallet share)\n",
    "- **Dataset**: 5,000 customers x 4 quarters = 20,000 records\n",
    "- **Deadline**: September 25, 2025"
   ]
  },
  {
   "cell_type": "code",
   "execution_count": null,
   "metadata": {},
   "outputs": [],
   "source": [
    "# Import required libraries\n",
    "import pandas as pd\n",
    "import numpy as np\n",
    "import matplotlib.pyplot as plt\n",
    "import seaborn as sns\n",
    "from scipy import stats\n",
    "import warnings\n",
    "warnings.filterwarnings('ignore')\n",
    "\n",
    "# Set display options\n",
    "pd.set_option('display.max_columns', None)\n",
    "pd.set_option('display.float_format', lambda x: '%.3f' % x)\n",
    "sns.set_style('whitegrid')\n",
    "plt.rcParams['figure.figsize'] = (12, 6)"
   ]
  },
  {
   "cell_type": "markdown",
   "metadata": {},
   "source": [
    "## 1. Data Loading and Overview"
   ]
  },
  {
   "cell_type": "code",
   "execution_count": null,
   "metadata": {},
   "outputs": [],
   "source": [
    "# Load the dataset (it's actually CSV despite .xls extension)\n",
    "df = pd.read_csv('../data/raw/KSCU_wallet_share_train.xls')\n",
    "\n",
    "print(f\"Dataset shape: {df.shape}\")\n",
    "print(f\"Unique customers: {df['customer_id'].nunique():,}\")\n",
    "print(f\"Time periods: {sorted(df['quarter'].unique())}\")\n",
    "print(f\"\\nColumns ({len(df.columns)}):\")\n",
    "for i, col in enumerate(df.columns, 1):\n",
    "    print(f\"{i:2}. {col}\")"
   ]
  },
  {
   "cell_type": "code",
   "execution_count": null,
   "metadata": {},
   "outputs": [],
   "source": [
    "# Display first few rows\n",
    "df.head()"
   ]
  },
  {
   "cell_type": "code",
   "execution_count": null,
   "metadata": {},
   "outputs": [],
   "source": [
    "# Data types and missing values\n",
    "info_df = pd.DataFrame({\n",
    "    'Data Type': df.dtypes,\n",
    "    'Non-Null Count': df.count(),\n",
    "    'Null Count': df.isnull().sum(),\n",
    "    'Unique Values': df.nunique()\n",
    "})\n",
    "info_df"
   ]
  },
  {
   "cell_type": "markdown",
   "metadata": {},
   "source": [
    "## 2. State Distribution Analysis"
   ]
  },
  {
   "cell_type": "code",
   "execution_count": null,
   "metadata": {},
   "outputs": [],
   "source": [
    "# Current and next state distributions\n",
    "fig, (ax1, ax2) = plt.subplots(1, 2, figsize=(14, 5))\n",
    "\n",
    "# Current state\n",
    "state_counts = df['state'].value_counts()\n",
    "ax1.pie(state_counts.values, labels=state_counts.index, autopct='%1.1f%%', startangle=90)\n",
    "ax1.set_title('Current State Distribution\\n(n=20,000)', fontsize=12, fontweight='bold')\n",
    "\n",
    "# Next state\n",
    "next_state_counts = df['next_state'].value_counts()\n",
    "ax2.pie(next_state_counts.values, labels=next_state_counts.index, autopct='%1.1f%%', startangle=90)\n",
    "ax2.set_title('Next State Distribution\\n(n=20,000)', fontsize=12, fontweight='bold')\n",
    "\n",
    "plt.tight_layout()\n",
    "plt.show()\n",
    "\n",
    "print(\"State Transition Summary:\")\n",
    "print(\"=\"*40)\n",
    "print(f\"Current State Distribution:\")\n",
    "for state, count in state_counts.items():\n",
    "    print(f\"  {state:5}: {count:5,} ({count/len(df)*100:.1f}%)\")\n",
    "print(f\"\\nNext State Distribution:\")\n",
    "for state, count in next_state_counts.items():\n",
    "    print(f\"  {state:5}: {count:5,} ({count/len(df)*100:.1f}%)\")"
   ]
  },
  {
   "cell_type": "code",
   "execution_count": null,
   "metadata": {},
   "outputs": [],
   "source": [
    "# Transition Matrix\n",
    "transition_matrix = pd.crosstab(df['state'], df['next_state'], normalize='index') * 100\n",
    "transition_counts = pd.crosstab(df['state'], df['next_state'])\n",
    "\n",
    "print(\"Transition Probability Matrix (%)\")\n",
    "print(\"=\"*40)\n",
    "print(transition_matrix.round(1))\n",
    "print(\"\\nTransition Count Matrix\")\n",
    "print(\"=\"*40)\n",
    "print(transition_counts)\n",
    "\n",
    "# Visualize transition matrix\n",
    "plt.figure(figsize=(10, 6))\n",
    "sns.heatmap(transition_matrix, annot=True, fmt='.1f', cmap='YlOrRd', \n",
    "            cbar_kws={'label': 'Transition Probability (%)'})\n",
    "plt.title('State Transition Probability Matrix', fontsize=14, fontweight='bold')\n",
    "plt.xlabel('Next State')\n",
    "plt.ylabel('Current State')\n",
    "plt.show()"
   ]
  },
  {
   "cell_type": "markdown",
   "metadata": {},
   "source": [
    "## 3. Wallet Share Analysis"
   ]
  },
  {
   "cell_type": "code",
   "execution_count": null,
   "metadata": {},
   "outputs": [],
   "source": [
    "# Wallet share distribution by state\n",
    "fig, axes = plt.subplots(2, 3, figsize=(15, 10))\n",
    "\n",
    "# Current wallet share by state\n",
    "for i, state in enumerate(['STAY', 'SPLIT', 'LEAVE']):\n",
    "    ax = axes[0, i]\n",
    "    data = df[df['state'] == state]['wallet_share']\n",
    "    ax.hist(data, bins=30, edgecolor='black', alpha=0.7)\n",
    "    ax.axvline(data.mean(), color='red', linestyle='--', label=f'Mean: {data.mean():.3f}')\n",
    "    ax.set_title(f'Current Wallet Share - {state}\\n(n={len(data):,})')\n",
    "    ax.set_xlabel('Wallet Share')\n",
    "    ax.set_ylabel('Frequency')\n",
    "    ax.legend()\n",
    "    ax.grid(True, alpha=0.3)\n",
    "\n",
    "# Next wallet share by next state\n",
    "for i, state in enumerate(['STAY', 'SPLIT', 'LEAVE']):\n",
    "    ax = axes[1, i]\n",
    "    data = df[df['next_state'] == state]['wallet_share_next']\n",
    "    ax.hist(data, bins=30, edgecolor='black', alpha=0.7, color='green')\n",
    "    ax.axvline(data.mean(), color='red', linestyle='--', label=f'Mean: {data.mean():.3f}')\n",
    "    ax.set_title(f'Next Wallet Share - {state}\\n(n={len(data):,})')\n",
    "    ax.set_xlabel('Wallet Share')\n",
    "    ax.set_ylabel('Frequency')\n",
    "    ax.legend()\n",
    "    ax.grid(True, alpha=0.3)\n",
    "\n",
    "plt.tight_layout()\n",
    "plt.show()"
   ]
  },
  {
   "cell_type": "code",
   "execution_count": null,
   "metadata": {},
   "outputs": [],
   "source": [
    "# Wallet share statistics by state\n",
    "wallet_stats = df.groupby('state')['wallet_share'].agg([\n",
    "    'count', 'mean', 'std', 'min', 'max',\n",
    "    ('q25', lambda x: x.quantile(0.25)),\n",
    "    ('median', lambda x: x.quantile(0.5)),\n",
    "    ('q75', lambda x: x.quantile(0.75))\n",
    "])\n",
    "\n",
    "print(\"Wallet Share Statistics by Current State\")\n",
    "print(\"=\"*50)\n",
    "print(wallet_stats.round(3))\n",
    "\n",
    "# Define state thresholds based on data\n",
    "print(\"\\n\" + \"=\"*50)\n",
    "print(\"Suggested State Assignment Thresholds:\")\n",
    "print(\"=\"*50)\n",
    "print(f\"LEAVE: wallet_share < 0.20\")\n",
    "print(f\"SPLIT: 0.20 <= wallet_share < 0.80\")\n",
    "print(f\"STAY:  wallet_share >= 0.80\")"
   ]
  },
  {
   "cell_type": "markdown",
   "metadata": {},
   "source": [
    "## 4. Feature Analysis"
   ]
  },
  {
   "cell_type": "code",
   "execution_count": null,
   "metadata": {},
   "outputs": [],
   "source": [
    "# Numerical features statistics\n",
    "numerical_features = df.select_dtypes(include=[np.number]).columns.tolist()\n",
    "numerical_features = [f for f in numerical_features if f not in ['customer_id']]\n",
    "\n",
    "df[numerical_features].describe().round(3)"
   ]
  },
  {
   "cell_type": "code",
   "execution_count": null,
   "metadata": {},
   "outputs": [],
   "source": [
    "# Feature correlation with wallet share\n",
    "correlations = df[numerical_features].corr()['wallet_share'].sort_values(ascending=False)\n",
    "\n",
    "plt.figure(figsize=(10, 8))\n",
    "correlations.drop('wallet_share').plot(kind='barh')\n",
    "plt.title('Feature Correlation with Current Wallet Share', fontsize=14, fontweight='bold')\n",
    "plt.xlabel('Correlation Coefficient')\n",
    "plt.grid(True, alpha=0.3)\n",
    "plt.tight_layout()\n",
    "plt.show()\n",
    "\n",
    "print(\"Top Positive Correlations:\")\n",
    "print(correlations.head(6))\n",
    "print(\"\\nTop Negative Correlations:\")\n",
    "print(correlations.tail(5))"
   ]
  },
  {
   "cell_type": "code",
   "execution_count": null,
   "metadata": {},
   "outputs": [],
   "source": [
    "# Key features by state\n",
    "key_features = ['age', 'tenure_years', 'product_count', 'avg_balance', \n",
    "                'digital_engagement', 'branch_visits_last_q', 'card_spend_monthly']\n",
    "\n",
    "feature_by_state = df.groupby('state')[key_features].mean()\n",
    "\n",
    "# Visualize\n",
    "fig, axes = plt.subplots(2, 4, figsize=(16, 8))\n",
    "axes = axes.flatten()\n",
    "\n",
    "for i, feature in enumerate(key_features):\n",
    "    ax = axes[i]\n",
    "    feature_by_state[feature].plot(kind='bar', ax=ax, color=['green', 'orange', 'red'])\n",
    "    ax.set_title(f'Average {feature} by State')\n",
    "    ax.set_xlabel('State')\n",
    "    ax.set_ylabel(feature)\n",
    "    ax.grid(True, alpha=0.3)\n",
    "    ax.set_xticklabels(ax.get_xticklabels(), rotation=0)\n",
    "\n",
    "# Remove last empty subplot\n",
    "fig.delaxes(axes[-1])\n",
    "\n",
    "plt.tight_layout()\n",
    "plt.show()\n",
    "\n",
    "print(\"Average Feature Values by State\")\n",
    "print(\"=\"*50)\n",
    "print(feature_by_state.round(2))"
   ]
  },
  {
   "cell_type": "markdown",
   "metadata": {},
   "source": [
    "## 5. Temporal Analysis"
   ]
  },
  {
   "cell_type": "code",
   "execution_count": null,
   "metadata": {},
   "outputs": [],
   "source": [
    "# State transitions over time\n",
    "quarters = sorted(df['quarter'].unique())\n",
    "\n",
    "# State distribution by quarter\n",
    "state_by_quarter = pd.crosstab(df['quarter'], df['state'], normalize='index') * 100\n",
    "\n",
    "# Plot\n",
    "fig, (ax1, ax2) = plt.subplots(1, 2, figsize=(14, 5))\n",
    "\n",
    "# Stacked bar chart\n",
    "state_by_quarter.plot(kind='bar', stacked=True, ax=ax1, \n",
    "                      color=['green', 'orange', 'red'])\n",
    "ax1.set_title('State Distribution by Quarter', fontsize=12, fontweight='bold')\n",
    "ax1.set_xlabel('Quarter')\n",
    "ax1.set_ylabel('Percentage (%)')\n",
    "ax1.legend(title='State')\n",
    "ax1.set_xticklabels(ax1.get_xticklabels(), rotation=0)\n",
    "\n",
    "# Line plot\n",
    "state_by_quarter.plot(ax=ax2, marker='o', linewidth=2)\n",
    "ax2.set_title('State Evolution Over Time', fontsize=12, fontweight='bold')\n",
    "ax2.set_xlabel('Quarter')\n",
    "ax2.set_ylabel('Percentage (%)')\n",
    "ax2.legend(title='State')\n",
    "ax2.grid(True, alpha=0.3)\n",
    "\n",
    "plt.tight_layout()\n",
    "plt.show()\n",
    "\n",
    "print(\"State Distribution by Quarter (%)\")\n",
    "print(\"=\"*40)\n",
    "print(state_by_quarter.round(1))"
   ]
  },
  {
   "cell_type": "code",
   "execution_count": null,
   "metadata": {},
   "outputs": [],
   "source": [
    "# Average wallet share over time\n",
    "wallet_by_quarter = df.groupby(['quarter', 'state'])['wallet_share'].mean().unstack()\n",
    "\n",
    "plt.figure(figsize=(12, 6))\n",
    "wallet_by_quarter.plot(marker='o', linewidth=2, markersize=8)\n",
    "plt.title('Average Wallet Share by State Over Time', fontsize=14, fontweight='bold')\n",
    "plt.xlabel('Quarter')\n",
    "plt.ylabel('Average Wallet Share')\n",
    "plt.legend(title='State', bbox_to_anchor=(1.05, 1), loc='upper left')\n",
    "plt.grid(True, alpha=0.3)\n",
    "plt.tight_layout()\n",
    "plt.show()\n",
    "\n",
    "print(\"Average Wallet Share by Quarter and State\")\n",
    "print(\"=\"*40)\n",
    "print(wallet_by_quarter.round(3))"
   ]
  },
  {
   "cell_type": "markdown",
   "metadata": {},
   "source": [
    "## 6. Customer Segmentation Analysis"
   ]
  },
  {
   "cell_type": "code",
   "execution_count": null,
   "metadata": {},
   "outputs": [],
   "source": [
    "# Age groups analysis\n",
    "df['age_group'] = pd.cut(df['age'], bins=[0, 30, 40, 50, 60, 100], \n",
    "                         labels=['18-30', '31-40', '41-50', '51-60', '60+'])\n",
    "\n",
    "# State distribution by age group\n",
    "age_state = pd.crosstab(df['age_group'], df['state'], normalize='index') * 100\n",
    "\n",
    "# Tenure groups\n",
    "df['tenure_group'] = pd.cut(df['tenure_years'], bins=[0, 2, 5, 10, 100], \n",
    "                            labels=['0-2 yrs', '2-5 yrs', '5-10 yrs', '10+ yrs'])\n",
    "\n",
    "# State distribution by tenure\n",
    "tenure_state = pd.crosstab(df['tenure_group'], df['state'], normalize='index') * 100\n",
    "\n",
    "# Visualize\n",
    "fig, (ax1, ax2) = plt.subplots(1, 2, figsize=(14, 5))\n",
    "\n",
    "age_state.plot(kind='bar', ax=ax1, color=['green', 'orange', 'red'])\n",
    "ax1.set_title('State Distribution by Age Group', fontsize=12, fontweight='bold')\n",
    "ax1.set_xlabel('Age Group')\n",
    "ax1.set_ylabel('Percentage (%)')\n",
    "ax1.legend(title='State')\n",
    "ax1.set_xticklabels(ax1.get_xticklabels(), rotation=45)\n",
    "\n",
    "tenure_state.plot(kind='bar', ax=ax2, color=['green', 'orange', 'red'])\n",
    "ax2.set_title('State Distribution by Tenure', fontsize=12, fontweight='bold')\n",
    "ax2.set_xlabel('Tenure Group')\n",
    "ax2.set_ylabel('Percentage (%)')\n",
    "ax2.legend(title='State')\n",
    "ax2.set_xticklabels(ax2.get_xticklabels(), rotation=45)\n",
    "\n",
    "plt.tight_layout()\n",
    "plt.show()"
   ]
  },
  {
   "cell_type": "code",
   "execution_count": null,
   "metadata": {},
   "outputs": [],
   "source": [
    "# Product holding patterns\n",
    "product_analysis = df.groupby('product_count').agg({\n",
    "    'wallet_share': 'mean',\n",
    "    'customer_id': 'count'\n",
    "}).rename(columns={'customer_id': 'count'})\n",
    "\n",
    "fig, (ax1, ax2) = plt.subplots(1, 2, figsize=(14, 5))\n",
    "\n",
    "# Product count distribution\n",
    "df['product_count'].value_counts().sort_index().plot(kind='bar', ax=ax1, color='steelblue')\n",
    "ax1.set_title('Distribution of Product Count', fontsize=12, fontweight='bold')\n",
    "ax1.set_xlabel('Number of Products')\n",
    "ax1.set_ylabel('Frequency')\n",
    "ax1.grid(True, alpha=0.3)\n",
    "\n",
    "# Wallet share by product count\n",
    "product_analysis['wallet_share'].plot(kind='bar', ax=ax2, color='green')\n",
    "ax2.set_title('Average Wallet Share by Product Count', fontsize=12, fontweight='bold')\n",
    "ax2.set_xlabel('Number of Products')\n",
    "ax2.set_ylabel('Average Wallet Share')\n",
    "ax2.grid(True, alpha=0.3)\n",
    "\n",
    "plt.tight_layout()\n",
    "plt.show()\n",
    "\n",
    "print(\"Product Count Analysis\")\n",
    "print(\"=\"*40)\n",
    "print(product_analysis.round(3))"
   ]
  },
  {
   "cell_type": "markdown",
   "metadata": {},
   "source": [
    "## 7. Risk Indicators"
   ]
  },
  {
   "cell_type": "code",
   "execution_count": null,
   "metadata": {},
   "outputs": [],
   "source": [
    "# Identify at-risk customers (likely to leave)\n",
    "at_risk = df[(df['state'] == 'STAY') & (df['next_state'] == 'LEAVE')]\n",
    "stable = df[(df['state'] == 'STAY') & (df['next_state'] == 'STAY')]\n",
    "\n",
    "print(f\"At-risk customers (STAY -> LEAVE): {len(at_risk):,}\")\n",
    "print(f\"Stable customers (STAY -> STAY): {len(stable):,}\")\n",
    "print(f\"Risk rate: {len(at_risk) / (len(at_risk) + len(stable)) * 100:.2f}%\")\n",
    "\n",
    "# Compare features\n",
    "risk_comparison = pd.DataFrame({\n",
    "    'At Risk (STAY->LEAVE)': at_risk[key_features].mean(),\n",
    "    'Stable (STAY->STAY)': stable[key_features].mean()\n",
    "})\n",
    "risk_comparison['Difference'] = risk_comparison['At Risk (STAY->LEAVE)'] - risk_comparison['Stable (STAY->STAY)']\n",
    "risk_comparison['% Difference'] = (risk_comparison['Difference'] / risk_comparison['Stable (STAY->STAY)']) * 100\n",
    "\n",
    "print(\"\\nFeature Comparison: At-Risk vs Stable Customers\")\n",
    "print(\"=\"*60)\n",
    "print(risk_comparison.round(2))"
   ]
  },
  {
   "cell_type": "code",
   "execution_count": null,
   "metadata": {},
   "outputs": [],
   "source": [
    "# Churn risk factors\n",
    "fig, axes = plt.subplots(2, 3, figsize=(15, 10))\n",
    "axes = axes.flatten()\n",
    "\n",
    "risk_factors = ['digital_engagement', 'product_count', 'avg_balance', \n",
    "                'tenure_years', 'complaints_12m', 'fee_events_12m']\n",
    "\n",
    "for i, factor in enumerate(risk_factors):\n",
    "    ax = axes[i]\n",
    "    \n",
    "    # Box plot comparing at-risk vs stable\n",
    "    data_to_plot = [stable[factor].dropna(), at_risk[factor].dropna()]\n",
    "    ax.boxplot(data_to_plot, labels=['Stable', 'At Risk'])\n",
    "    ax.set_title(f'{factor}', fontsize=11, fontweight='bold')\n",
    "    ax.set_ylabel('Value')\n",
    "    ax.grid(True, alpha=0.3)\n",
    "\n",
    "plt.suptitle('Risk Factor Comparison: Stable vs At-Risk Customers', \n",
    "             fontsize=14, fontweight='bold', y=1.02)\n",
    "plt.tight_layout()\n",
    "plt.show()"
   ]
  },
  {
   "cell_type": "markdown",
   "metadata": {},
   "source": [
    "## 8. Key Insights and Next Steps\n",
    "\n",
    "### Key Findings:\n",
    "1. **State Distribution**: \n",
    "   - 82.6% STAY, 10.8% SPLIT, 6.6% LEAVE (current)\n",
    "   - Positive trend: More STAY (89.2%) in next period\n",
    "\n",
    "2. **Strong Retention**: \n",
    "   - STAY -> STAY: 96.0%\n",
    "   - High wallet share retention for engaged customers\n",
    "\n",
    "3. **Risk Indicators**:\n",
    "   - Lower digital engagement\n",
    "   - Fewer products\n",
    "   - Higher complaints and fee events\n",
    "\n",
    "4. **Positive Correlations with Wallet Share**:\n",
    "   - Product count\n",
    "   - Digital engagement\n",
    "   - Average balance\n",
    "\n",
    "### Next Steps:\n",
    "1. Build Markov chain model with feature dependencies\n",
    "2. Create wallet share forecasting model\n",
    "3. Develop intervention scenarios\n",
    "4. Build interactive prototype for testing"
   ]
  },
  {
   "cell_type": "code",
   "execution_count": null,
   "metadata": {},
   "outputs": [],
   "source": [
    "# Save processed data for modeling\n",
    "df.to_csv('../data/processed/eda_enhanced.csv', index=False)\n",
    "print(\"Enhanced dataset saved to: ../data/processed/eda_enhanced.csv\")\n",
    "print(f\"Shape: {df.shape}\")\n",
    "print(f\"New features added: age_group, tenure_group\")"
   ]
  }
 ],
 "metadata": {
  "kernelspec": {
   "display_name": "Python 3",
   "language": "python",
   "name": "python3"
  },
  "language_info": {
   "codemirror_mode": {
    "name": "ipython",
    "version": 3
   },
   "file_extension": ".py",
   "mimetype": "text/x-python",
   "name": "python",
   "nbconvert_exporter": "python",
   "pygments_lexer": "ipython3",
   "version": "3.9.0"
  }
 },
 "nbformat": 4,
 "nbformat_minor": 4
}